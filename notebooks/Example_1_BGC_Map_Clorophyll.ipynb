{
 "cells": [
  {
   "cell_type": "markdown",
   "id": "8ffcc73d-56f7-41e3-9d61-e01ab4d8f761",
   "metadata": {},
   "source": [
    "### Example 1 - Map of chlorophyll content in the North West Atlantic (Poseidon version)\n",
    "\n",
    "This example shows how to read and manipulate Argo profiles data stored in parquet format in CrocoLake.\n",
    "\n",
    "The data are stored across multiple files: we will load into memory only what we need by applying some filters, and we will create a map showing the chlorophyll content in the North West Atlantic.\n",
    "\n",
    "##### Note on the data location\n",
    "You need to point the code to the location of CrocoLake in your machine.\n",
    "\n",
    "#### Getting started\n",
    "\n",
    "We start by importing the necessary modules."
   ]
  },
  {
   "cell_type": "code",
   "execution_count": 1,
   "id": "98d5afe0-91ef-419a-9dda-d2794955742b",
   "metadata": {},
   "outputs": [],
   "source": [
    "# modules to handle the data\n",
    "import crocolakeloader.params as params\n",
    "from crocolakeloader.loader import Loader\n",
    "from datetime import datetime, timedelta\n",
    "\n",
    "# modules for visualizations\n",
    "import cartopy.crs as ccrs\n",
    "import matplotlib.pyplot as plt\n",
    "from matplotlib import colormaps"
   ]
  },
  {
   "cell_type": "markdown",
   "id": "86f3b16c-18e5-4904-8422-8f17edb48ef9",
   "metadata": {},
   "source": [
    "We now want to set up our filter to read only the data from the NWA (i.e. latitude between 34$^\\circ$ and 80$^\\circ$, longitude between -50$^\\circ$ and -78$^\\circ$). We also assume we are only interested in the data closer to the surface (pressure below 50 dbar).\n",
    "\n",
    "The loader allows us to specify the type of data (physical or bgc), the database (here, 'ARGO') and path to our CrocoLake mirror. We can then pass a filter to select what rows to read based on variables' values."
   ]
  },
  {
   "cell_type": "markdown",
   "id": "f7615305-d32b-4b1e-84f0-2f4cec304595",
   "metadata": {},
   "source": [
    "The geographical coordinates are stored in the variables 'LATITUDE'and 'LONGITUDE'. We then generate the filter, with its syntax being: `[[(column, op, val), …],…]` where `column` is the variable name, and `val` is the value to for the operator `op`, which accepts `[==, =, >, >=, <, <=, !=, in, not in]`,"
   ]
  },
  {
   "cell_type": "code",
   "execution_count": 2,
   "id": "04af307b-f887-4d68-90a9-c0defad34f48",
   "metadata": {},
   "outputs": [
    {
     "name": "stdout",
     "output_type": "stream",
     "text": [
      "Reading data from ['ARGO'] .\n",
      "Reading BGC parameters.\n",
      "Looking for data in ../CrocoLake/CrocoLakeBGC/\n",
      "Searching for database ARGO in ../CrocoLake/CrocoLakeBGC/*ARGO*.\n",
      "Found ['../CrocoLake/CrocoLakeBGC/1002_BGC_ARGO-QC-DEV_2025-02-15']\n",
      "Reading databases from the following paths:\n",
      "{'ARGO': '../CrocoLake/CrocoLakeBGC/1002_BGC_ARGO-QC-DEV_2025-02-15'}\n",
      "Reading columns ['CHLA', 'LATITUDE', 'LONGITUDE', 'PRES', 'JULD'] from db ARGO.\n",
      "CPU times: user 48.3 ms, sys: 35.4 ms, total: 83.7 ms\n",
      "Wall time: 66.4 ms\n"
     ]
    }
   ],
   "source": [
    "%%time\n",
    "# Setting up loader\n",
    "db_type=\"BGC\"\n",
    "ref_var = 'CHLA'\n",
    "cols = [ref_var,\"LATITUDE\",\"LONGITUDE\",\"PRES\",\"JULD\"]\n",
    "\n",
    "crocolake = Loader(\n",
    "    selected_variables=cols,\n",
    "    db_type=db_type,\n",
    "    db_list=[\"ARGO\"],\n",
    "    db_rootpath=\"../CrocoLake/CrocoLake\"+db_type+\"/\"\n",
    ")\n",
    "\n",
    "# Defining filters\n",
    "reference_time = datetime.utcnow() - timedelta(days=90)\n",
    "\n",
    "filter_coords_time_pres = [(\"LATITUDE\",\">\",34), (\"LATITUDE\",\"<\",80),\n",
    "                           (\"LONGITUDE\",\">\",-78), (\"LONGITUDE\",\"<\",-50),\n",
    "                           (\"JULD\",\">\",reference_time),\n",
    "                           (\"PRES\",\">=\",0),(\"PRES\",\"<=\",50),\n",
    "                           (ref_var,\">=\",-1e30),(ref_var,\"<=\",+1e30)]\n",
    "\n",
    "crocolake.set_filters(filter_coords_time_pres)\n",
    "\n",
    "ddf = crocolake.get_dataframe()"
   ]
  },
  {
   "cell_type": "markdown",
   "id": "5dbcee75-41f9-4b78-8142-5a9eed690ba7",
   "metadata": {},
   "source": [
    "Note that "
   ]
  },
  {
   "cell_type": "code",
   "execution_count": 3,
   "id": "671d7f01-1813-4b32-9b8f-34ad98f0867b",
   "metadata": {},
   "outputs": [
    {
     "name": "stdout",
     "output_type": "stream",
     "text": [
      "CPU times: user 5.18 s, sys: 1.19 s, total: 6.37 s\n",
      "Wall time: 2.61 s\n"
     ]
    },
    {
     "data": {
      "text/html": [
       "<div>\n",
       "<style scoped>\n",
       "    .dataframe tbody tr th:only-of-type {\n",
       "        vertical-align: middle;\n",
       "    }\n",
       "\n",
       "    .dataframe tbody tr th {\n",
       "        vertical-align: top;\n",
       "    }\n",
       "\n",
       "    .dataframe thead th {\n",
       "        text-align: right;\n",
       "    }\n",
       "</style>\n",
       "<table border=\"1\" class=\"dataframe\">\n",
       "  <thead>\n",
       "    <tr style=\"text-align: right;\">\n",
       "      <th></th>\n",
       "      <th>CHLA</th>\n",
       "      <th>LATITUDE</th>\n",
       "      <th>LONGITUDE</th>\n",
       "      <th>PRES</th>\n",
       "      <th>JULD</th>\n",
       "    </tr>\n",
       "  </thead>\n",
       "  <tbody>\n",
       "    <tr>\n",
       "      <th>0</th>\n",
       "      <td>0.082733</td>\n",
       "      <td>35.312445</td>\n",
       "      <td>-61.359902</td>\n",
       "      <td>0.0</td>\n",
       "      <td>2024-11-28 22:18:00</td>\n",
       "    </tr>\n",
       "    <tr>\n",
       "      <th>1</th>\n",
       "      <td>0.07665</td>\n",
       "      <td>35.312445</td>\n",
       "      <td>-61.359902</td>\n",
       "      <td>0.1</td>\n",
       "      <td>2024-11-28 22:18:00</td>\n",
       "    </tr>\n",
       "    <tr>\n",
       "      <th>2</th>\n",
       "      <td>0.073</td>\n",
       "      <td>35.312445</td>\n",
       "      <td>-61.359902</td>\n",
       "      <td>0.2</td>\n",
       "      <td>2024-11-28 22:18:00</td>\n",
       "    </tr>\n",
       "    <tr>\n",
       "      <th>3</th>\n",
       "      <td>0.0803</td>\n",
       "      <td>35.312445</td>\n",
       "      <td>-61.359902</td>\n",
       "      <td>0.3</td>\n",
       "      <td>2024-11-28 22:18:00</td>\n",
       "    </tr>\n",
       "    <tr>\n",
       "      <th>4</th>\n",
       "      <td>0.079083</td>\n",
       "      <td>35.312445</td>\n",
       "      <td>-61.359902</td>\n",
       "      <td>0.4</td>\n",
       "      <td>2024-11-28 22:18:00</td>\n",
       "    </tr>\n",
       "    <tr>\n",
       "      <th>...</th>\n",
       "      <td>...</td>\n",
       "      <td>...</td>\n",
       "      <td>...</td>\n",
       "      <td>...</td>\n",
       "      <td>...</td>\n",
       "    </tr>\n",
       "    <tr>\n",
       "      <th>10</th>\n",
       "      <td>0.198</td>\n",
       "      <td>40.733</td>\n",
       "      <td>-56.011</td>\n",
       "      <td>47.309998</td>\n",
       "      <td>2024-11-28 09:04:58.000971264</td>\n",
       "    </tr>\n",
       "    <tr>\n",
       "      <th>11</th>\n",
       "      <td>0.234</td>\n",
       "      <td>41.318</td>\n",
       "      <td>-56.905</td>\n",
       "      <td>32.049999</td>\n",
       "      <td>2024-12-08 10:50:16.001145344</td>\n",
       "    </tr>\n",
       "    <tr>\n",
       "      <th>12</th>\n",
       "      <td>0.2268</td>\n",
       "      <td>41.318</td>\n",
       "      <td>-56.905</td>\n",
       "      <td>36.850002</td>\n",
       "      <td>2024-12-08 10:50:16.001145344</td>\n",
       "    </tr>\n",
       "    <tr>\n",
       "      <th>13</th>\n",
       "      <td>0.2304</td>\n",
       "      <td>41.318</td>\n",
       "      <td>-56.905</td>\n",
       "      <td>42.110001</td>\n",
       "      <td>2024-12-08 10:50:16.001145344</td>\n",
       "    </tr>\n",
       "    <tr>\n",
       "      <th>14</th>\n",
       "      <td>0.2232</td>\n",
       "      <td>41.318</td>\n",
       "      <td>-56.905</td>\n",
       "      <td>46.940002</td>\n",
       "      <td>2024-12-08 10:50:16.001145344</td>\n",
       "    </tr>\n",
       "  </tbody>\n",
       "</table>\n",
       "<p>303 rows × 5 columns</p>\n",
       "</div>"
      ],
      "text/plain": [
       "        CHLA   LATITUDE  LONGITUDE       PRES                           JULD\n",
       "0   0.082733  35.312445 -61.359902        0.0            2024-11-28 22:18:00\n",
       "1    0.07665  35.312445 -61.359902        0.1            2024-11-28 22:18:00\n",
       "2      0.073  35.312445 -61.359902        0.2            2024-11-28 22:18:00\n",
       "3     0.0803  35.312445 -61.359902        0.3            2024-11-28 22:18:00\n",
       "4   0.079083  35.312445 -61.359902        0.4            2024-11-28 22:18:00\n",
       "..       ...        ...        ...        ...                            ...\n",
       "10     0.198     40.733    -56.011  47.309998  2024-11-28 09:04:58.000971264\n",
       "11     0.234     41.318    -56.905  32.049999  2024-12-08 10:50:16.001145344\n",
       "12    0.2268     41.318    -56.905  36.850002  2024-12-08 10:50:16.001145344\n",
       "13    0.2304     41.318    -56.905  42.110001  2024-12-08 10:50:16.001145344\n",
       "14    0.2232     41.318    -56.905  46.940002  2024-12-08 10:50:16.001145344\n",
       "\n",
       "[303 rows x 5 columns]"
      ]
     },
     "execution_count": 3,
     "metadata": {},
     "output_type": "execute_result"
    }
   ],
   "source": [
    "%%time\n",
    "df = ddf.compute()\n",
    "df"
   ]
  },
  {
   "cell_type": "markdown",
   "id": "8653498a-afd1-4002-8951-82206a8f1660",
   "metadata": {},
   "source": [
    "You can explore the dataframe just by calling it (`df`) as we did above. If you want a list of the variables that are stored, you can use `sorted(df.columns.to_list())`."
   ]
  },
  {
   "cell_type": "markdown",
   "id": "a62e3698-5cae-4823-a902-d2f81d824b50",
   "metadata": {},
   "source": [
    "#### Timing test\n",
    "\n",
    "Let's call again the same function, but we time its execution now:"
   ]
  },
  {
   "cell_type": "markdown",
   "id": "6285dfa1-5903-4318-aadf-820f4eeadded",
   "metadata": {
    "scrolled": true
   },
   "source": [
    "It should have taken a total wall time of 8 to 9 seconds. \n",
    "\n",
    "We now want to compare this with Argopy's functionalities. Its data fetcher requires to specificy the depth range, which we then set to between 0 and 10000, i.e. all depths present in the dataset.\n",
    "\n",
    "NB: the execution should throw an exception (if it doesn't, let me know!). This is likely due to ERDAP's servers timing out after 1 min (as the wall time consistently measures)."
   ]
  },
  {
   "cell_type": "markdown",
   "id": "2d9b492f-3067-40cf-b96f-73952fe439f0",
   "metadata": {},
   "source": [
    "We just saw that if we need a large amount of data, our parquet-based mirror of Argo's data is faster.\n",
    "\n",
    "Now let's narrow the filters in the time and depth -- let's say we we want to select the data for the past three months and measured between 0 and 50 db."
   ]
  },
  {
   "cell_type": "markdown",
   "id": "a5be1d85-283a-460f-b28f-34bd8791e42b",
   "metadata": {},
   "source": [
    "It now took between 5-6 seconds for our Argo mirror, and 2 to 3 seconds using Argo ERDDAP's servers. These can be faster when we need to access a contained amount of data."
   ]
  },
  {
   "cell_type": "markdown",
   "id": "a47f52e8-9536-4b71-a5e4-bdcd673db120",
   "metadata": {},
   "source": [
    "#### Map\n",
    "\n",
    "As in this example we are only interested in the chlorophyll, we can specify it as the only column to import (together with the geographical and temporal coordinates). We do this through the variable `columns` of `read_parquet()`. We also adjust the filter to consider only data labeled with QC=1."
   ]
  },
  {
   "cell_type": "code",
   "execution_count": 4,
   "id": "986cf057-c20d-483c-b514-6c9fafde19a9",
   "metadata": {},
   "outputs": [
    {
     "data": {
      "image/png": "[encoded data removed]",
      "text/plain": [
       "<Figure size 1000x600 with 2 Axes>"
      ]
     },
     "metadata": {},
     "output_type": "display_data"
    }
   ],
   "source": [
    "import cartopy.crs as ccrs\n",
    "import matplotlib.pyplot as plt\n",
    "from matplotlib import colormaps\n",
    "\n",
    "# Convert 'JULD' column to datetime type\n",
    "# df['JULD'] = pd.to_datetime(df['JULD'])\n",
    "\n",
    "# Group by 'LATITUDE' and 'LONGITUDE', and aggregate by averaging over 'PRES_ADJUSTED', 'JULD', and 'CHLA_ADJUSTED'\n",
    "grouped = df.groupby(['LATITUDE', 'LONGITUDE']).agg({\n",
    "    'PRES': 'mean',  # Take the mean depth\n",
    "    ref_var: 'mean'  # Take the mean intensity\n",
    "}).reset_index()\n",
    "\n",
    "# Plotting using Cartopy\n",
    "plt.figure(figsize=(10, 6))\n",
    "ax = plt.axes(projection=ccrs.PlateCarree())\n",
    "ax.coastlines()\n",
    "\n",
    "# Scatter plot\n",
    "cbar_min = df[ref_var].quantile(q=0.1)\n",
    "cbar_max = df[ref_var].quantile(q=0.9)\n",
    "plt.scatter(\n",
    "    grouped['LONGITUDE'], grouped['LATITUDE'],\n",
    "    c=grouped[ref_var],\n",
    "    vmin=cbar_min, vmax=cbar_max, cmap='cividis', s=5,\n",
    "    transform=ccrs.PlateCarree()\n",
    ")\n",
    "plt.colorbar(label='Average ' + ref_var)\n",
    "plt.xlabel('Longitude')\n",
    "plt.ylabel('Latitude')\n",
    "plt.title('North-West Atlantic average ' + ref_var)\n",
    "plt.grid(True)\n",
    "plt.xlim([-78, -45])\n",
    "plt.ylim([30, 50])\n",
    "plt.show()"
   ]
  },
  {
   "cell_type": "markdown",
   "id": "0033c65c-7cc4-4c7b-b85e-7d79c62ca8be",
   "metadata": {},
   "source": [
    "#### Exercise\n",
    "\n",
    "Try and access some other metadata, for example:\n",
    "* filtering by different time periods;\n",
    "* mapping a different parameter;\n",
    "* restraining the quality of the data further by imposing PRES_ADJUSTED_ERROR smaller than 20db;\n",
    "* performing reads/manipulations that you would need to perform your tasks.\n",
    "\n",
    "If you encounter any issues, please [reach out](enrico.milanese@whoi.edu)!"
   ]
  },
  {
   "cell_type": "code",
   "execution_count": null,
   "id": "934aef4c-f28f-44a4-85d2-2908c3ff8e69",
   "metadata": {},
   "outputs": [],
   "source": []
  }
 ],
 "metadata": {
  "kernelspec": {
   "display_name": "Python 3 (ipykernel)",
   "language": "python",
   "name": "python3"
  },
  "language_info": {
   "codemirror_mode": {
    "name": "ipython",
    "version": 3
   },
   "file_extension": ".py",
   "mimetype": "text/x-python",
   "name": "python",
   "nbconvert_exporter": "python",
   "pygments_lexer": "ipython3",
   "version": "3.11.6"
  }
 },
 "nbformat": 4,
 "nbformat_minor": 5
}
